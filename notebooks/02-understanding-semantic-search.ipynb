{
 "cells": [
  {
   "cell_type": "code",
   "execution_count": 1,
   "id": "0ef440e4-0bfa-4d0c-9027-1a265dbda2ed",
   "metadata": {},
   "outputs": [
    {
     "name": "stderr",
     "output_type": "stream",
     "text": [
      "C:\\Users\\Admin\\AppData\\Roaming\\Python\\Python312\\site-packages\\tqdm\\auto.py:21: TqdmWarning: IProgress not found. Please update jupyter and ipywidgets. See https://ipywidgets.readthedocs.io/en/stable/user_install.html\n",
      "  from .autonotebook import tqdm as notebook_tqdm\n"
     ]
    },
    {
     "name": "stdout",
     "output_type": "stream",
     "text": [
      "Đang tải model...\n"
     ]
    },
    {
     "name": "stderr",
     "output_type": "stream",
     "text": [
      "Xet Storage is enabled for this repo, but the 'hf_xet' package is not installed. Falling back to regular HTTP download. For better performance, install the package with: `pip install huggingface_hub[hf_xet]` or `pip install hf_xet`\n"
     ]
    },
    {
     "name": "stdout",
     "output_type": "stream",
     "text": [
      "Model đã sẵn sàng!\n"
     ]
    }
   ],
   "source": [
    "# Cell 1: Import các thư viện cần thiết\n",
    "from sentence_transformers import SentenceTransformer, util\n",
    "import numpy as np\n",
    "\n",
    "# Tải model từ Hugging Face Hub.\n",
    "# Lần đầu tiên chạy, nó sẽ tải model về máy (có thể mất vài phút).\n",
    "# Những lần sau sẽ rất nhanh vì model đã được lưu lại.\n",
    "print(\"Đang tải model...\")\n",
    "model = SentenceTransformer('all-MiniLM-L6-v2')\n",
    "print(\"Model đã sẵn sàng!\")"
   ]
  },
  {
   "cell_type": "code",
   "execution_count": 2,
   "id": "11c26486-62b0-4c42-82c3-eb775c5f2b9a",
   "metadata": {},
   "outputs": [
    {
     "name": "stdout",
     "output_type": "stream",
     "text": [
      "Vector của câu 1 (chỉ in 5 số đầu tiên):\n",
      "[-0.09788508  0.04476633 -0.01082056 -0.00391032 -0.04591976]\n",
      "\n",
      "Kích thước của vector (số chiều):\n",
      "(384,)\n"
     ]
    }
   ],
   "source": [
    "# Cell 2: Chuẩn bị một vài câu để thí nghiệm\n",
    "cau_1 = \"Chú chó đang chơi đùa trong công viên.\"\n",
    "cau_2 = \"Con mèo đang nằm ngủ trên ghế sô pha.\"\n",
    "cau_3 = \"Hôm nay tôi sẽ đi học lập trình.\"\n",
    "\n",
    "# Mã hóa các câu này thành vector\n",
    "embedding_1 = model.encode(cau_1)\n",
    "embedding_2 = model.encode(cau_2)\n",
    "embedding_3 = model.encode(cau_3)\n",
    "\n",
    "# In ra để xem vector trông như thế nào\n",
    "print(\"Vector của câu 1 (chỉ in 5 số đầu tiên):\")\n",
    "print(embedding_1[:5])\n",
    "print(\"\\nKích thước của vector (số chiều):\")\n",
    "print(embedding_1.shape)"
   ]
  },
  {
   "cell_type": "code",
   "execution_count": 3,
   "id": "4553988a-c894-4ff7-980b-a81346681575",
   "metadata": {},
   "outputs": [
    {
     "name": "stdout",
     "output_type": "stream",
     "text": [
      "Độ tương đồng giữa 'chó' và 'mèo': 0.7199\n",
      "Độ tương đồng giữa 'chó' và 'lập trình': 0.6332\n",
      "\n",
      "=> AI hiểu rằng: câu về 'chó' và 'mèo' có ý nghĩa gần nhau hơn câu về 'chó' và 'lập trình'.\n"
     ]
    }
   ],
   "source": [
    "# Cell 3: Tính toán độ tương đồng\n",
    "# So sánh câu 1 (chó) và câu 2 (mèo)\n",
    "similarity_1_2 = util.cos_sim(embedding_1, embedding_2)\n",
    "\n",
    "# So sánh câu 1 (chó) và câu 3 (lập trình)\n",
    "similarity_1_3 = util.cos_sim(embedding_1, embedding_3)\n",
    "\n",
    "print(f\"Độ tương đồng giữa 'chó' và 'mèo': {similarity_1_2.item():.4f}\")\n",
    "print(f\"Độ tương đồng giữa 'chó' và 'lập trình': {similarity_1_3.item():.4f}\")\n",
    "\n",
    "# So sánh độ tương đồng\n",
    "if similarity_1_2 > similarity_1_3:\n",
    "    print(\"\\n=> AI hiểu rằng: câu về 'chó' và 'mèo' có ý nghĩa gần nhau hơn câu về 'chó' và 'lập trình'.\")\n",
    "else:\n",
    "    print(\"\\n=> Có gì đó không đúng!\")"
   ]
  },
  {
   "cell_type": "code",
   "execution_count": 4,
   "id": "570193d0-8058-47da-b35c-ca45d513e957",
   "metadata": {},
   "outputs": [
    {
     "name": "stdout",
     "output_type": "stream",
     "text": [
      "Độ tương đồng với Factory Method: 0.6473\n",
      "Độ tương đồng với Singleton: 0.6091\n"
     ]
    }
   ],
   "source": [
    "# Cell 4: Thử với dữ liệu thực tế\n",
    "cau_hoi_nguoi_dung = \"Làm cách nào để tạo đối tượng mà không cần chỉ định lớp cụ thể?\"\n",
    "mo_ta_factory = \"Factory Method cung cấp một giao diện để tạo các đối tượng trong một lớp cha, nhưng cho phép các lớp con thay đổi loại đối tượng sẽ được tạo.\"\n",
    "mo_ta_singleton = \"Singleton đảm bảo một lớp chỉ có một thể hiện duy nhất và cung cấp một điểm truy cập toàn cục đến thể hiện đó.\"\n",
    "\n",
    "# Mã hóa\n",
    "emb_cau_hoi = model.encode(cau_hoi_nguoi_dung)\n",
    "emb_factory = model.encode(mo_ta_factory)\n",
    "emb_singleton = model.encode(mo_ta_singleton)\n",
    "\n",
    "# Tính độ tương đồng\n",
    "sim_q_factory = util.cos_sim(emb_cau_hoi, emb_factory)\n",
    "sim_q_singleton = util.cos_sim(emb_cau_hoi, emb_singleton)\n",
    "\n",
    "print(f\"Độ tương đồng với Factory Method: {sim_q_factory.item():.4f}\")\n",
    "print(f\"Độ tương đồng với Singleton: {sim_q_singleton.item():.4f}\")"
   ]
  }
 ],
 "metadata": {
  "kernelspec": {
   "display_name": "Python 3 (ipykernel)",
   "language": "python",
   "name": "python3"
  },
  "language_info": {
   "codemirror_mode": {
    "name": "ipython",
    "version": 3
   },
   "file_extension": ".py",
   "mimetype": "text/x-python",
   "name": "python",
   "nbconvert_exporter": "python",
   "pygments_lexer": "ipython3",
   "version": "3.12.3"
  }
 },
 "nbformat": 4,
 "nbformat_minor": 5
}
