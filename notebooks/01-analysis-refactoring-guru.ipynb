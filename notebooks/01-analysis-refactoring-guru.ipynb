{
 "cells": [
  {
   "cell_type": "markdown",
   "id": "e9948edc-fa85-4e85-a093-d00fae6c4869",
   "metadata": {},
   "source": [
    "### 1. Tiêu đề Pattern (Title)\n",
    "\n",
    "- **Mô tả:** Đây là tiêu đề chính, cho biết tên của Design Pattern.\n",
    "- **Selector:** `h1.title`\n",
    "- **Giải thích Selector:** Chọn thẻ `<h1>` có class là `title`. Đây là selector rất cụ thể và ổn định cho tiêu đề.\n",
    "- **Ví dụ nội dung:** \n",
    "  > Observer"
   ]
  },
  {
   "cell_type": "markdown",
   "id": "68cca1f7-3404-4702-9087-3b18609970e7",
   "metadata": {},
   "source": [
    "### 2. Mục đích (Intent)\n",
    "\n",
    "- **Mô tả:** Phần này mô tả ngắn gọn ý định hoặc mục tiêu chính của pattern.\n",
    "- **Selector:** `#intent + p`\n",
    "- **Giải thích Selector:** Tìm phần tử có `id=\"intent\"` (chính là tiêu đề `<h2>`), sau đó lấy ngay đoạn văn `<p>` nằm kế tiếp sau nó. Cách này rất chính xác.\n",
    "- **Ví dụ nội dung:** \n",
    "  > Observer is a behavioral design pattern that lets you define a subscription mechanism to notify multiple objects about any events that happen to the object they're observing."
   ]
  },
  {
   "cell_type": "markdown",
   "id": "1d396f0c-11b3-441a-b010-052ec0ddfdc2",
   "metadata": {},
   "source": [
    "### 3. Vấn đề (Problem)\n",
    "\n",
    "- **Mô tả:** Phần này mô tả về vấn đề đang gặp phải mà pattern này được tạo ra để giải quyết.\n",
    "- **Selector:** `#problem ~ p`\n",
    "- **Giải thích Selector:** Tìm phần tử có id=\"problem\" (chính là tiêu đề), sau đó lấy ngay đoạn văn `<p>` nằm kế tiếp sau nó. Cách này rất chính xác.\n",
    "- **Ví dụ nội dung:** \n",
    "  > Imagine that you have two types of objects: a Customer and a Store..."
   ]
  },
  {
   "cell_type": "markdown",
   "id": "8a3b3154-2e75-4059-88b0-b10701729ec6",
   "metadata": {},
   "source": [
    "### 4. Giải pháp (Solution)\n",
    "\n",
    "- **Mô tả:** Phần này mô tả cách mà pattern giải quyết vấn đề đã nêu.\n",
    "- **Selector:** `#solution ~ p`\n",
    "- **Giải thích Selector:** Tìm phần tử có id=\"solution\", sau đó lấy **tất cả** các thẻ `<p>` anh em nằm sau nó. Dấu `~` (general sibling combinator) sẽ lấy hết các đoạn văn thuộc về phần giải pháp, không chỉ cái đầu tiên.\n",
    "- **Ví dụ nội dung:** \n",
    "  > The object that has some interesting state is often called subject, but since it's also going to notify other objects about the changes to its state, we'll call it publisher..."
   ]
  },
  {
   "cell_type": "markdown",
   "id": "953f7d98-2449-4455-a60f-2f0a48de280c",
   "metadata": {},
   "source": [
    "### 5. Ví dụ thực tế (Real-World Analogy)\n",
    "\n",
    "- **Mô tả:** Phần này đưa ra một ví dụ đời thực để giúp dễ hình dung về pattern.\n",
    "- **Selector:** `#analogy ~ p`\n",
    "- **Giải thích Selector:** Tìm phần tử có id=\"analogy\", sau đó lấy tất cả các thẻ `<p>` anh em nằm sau nó.\n",
    "- **Ví dụ nội dung:** \n",
    "  > If you subscribe to a newspaper or magazine, you no longer need to go to the store to check if the next issue is available. Instead, the publisher sends new issues directly to your mailbox right after publication."
   ]
  },
  {
   "cell_type": "markdown",
   "id": "34e0dec1-f6bf-4f2f-b0d6-3d2ece91d708",
   "metadata": {},
   "source": [
    "### 6. Cấu trúc (Structure)\n",
    "\n",
    "- **Mô tả:** Mô tả các thành phần và mối quan hệ giữa chúng trong pattern, thường đi kèm sơ đồ UML.\n",
    "- **Selector:** `#structure ~ *`\n",
    "- **Giải thích Selector:** Tìm phần tử có `id=\"structure\"`. Dấu `~ *` là một kỹ thuật mạnh, có nghĩa là \"lấy tất cả các thẻ anh em nằm sau nó\", bao gồm cả thẻ `<figure>` (hình ảnh) và thẻ `<ol>` (danh sách).\n",
    "- **Ví dụ nội dung:** \n",
    "  > 1. The Publisher issues events of interest to other objects..."
   ]
  },
  {
   "cell_type": "markdown",
   "id": "3454e2da-4c0f-4e36-bc03-25b6b6494647",
   "metadata": {},
   "source": [
    "### 7. Mã giả (Pseudocode)\n",
    "\n",
    "- **Mô tả:** Cung cấp ví dụ mã giả để minh họa cách triển khai pattern trong thực tế.\n",
    "- **Selector:** `#pseudocode ~ *`\n",
    "- **Giải thích Selector:** Tìm phần tử có id=\"pseudocode\", sau đó lấy tất cả các thẻ anh em nằm sau nó, bao gồm các đoạn văn `<p>` và các khối mã giả `<figure>`.\n",
    "- **Ví dụ nội dung:** \n",
    "  > The list of subscribers is compiled dynamically: objects can start or stop listening to notifications at runtime, depending on the desired behavior of your app."
   ]
  },
  {
   "cell_type": "markdown",
   "id": "8facfecb-97a8-4938-a597-afef76c2fc2a",
   "metadata": {},
   "source": [
    "### 8. Phạm vi áp dụng (Applicability)\n",
    "\n",
    "- **Mô tả:** Liệt kê các tình huống cụ thể nên sử dụng pattern này.\n",
    "- **Selector:** `div.section.applicability ul > li`\n",
    "- **Giải thích Selector:** Tìm thẻ `div` có cả class `section` và `applicability`, vào bên trong tìm thẻ `<ul>`, rồi lấy tất cả các mục `<li>` con trực tiếp của nó.\n",
    "- **Ví dụ nội dung:** \n",
    "  > - Use the Observer pattern when changes to the state of one object may require changing other objects..."
   ]
  },
  {
   "cell_type": "markdown",
   "id": "ca07c75d-fddd-4459-843a-a20919cd1f24",
   "metadata": {},
   "source": [
    "### 9. Cách triển khai (How to Implement)\n",
    "\n",
    "- **Mô tả:** Cung cấp các bước chi tiết để triển khai pattern.\n",
    "- **Selector:** `#checklist + ol > li`\n",
    "- **Giải thích Selector:** Tìm phần tử có id=\"checklist\", lấy danh sách có thứ tự `<ol>` ngay sau nó, và lấy tất cả các mục `<li>` con trực tiếp.\n",
    "- **Ví dụ nội dung:** \n",
    "  > 1. Declare the subscriber interface. At a bare minimum, it should declare a single `update` method."
   ]
  },
  {
   "cell_type": "markdown",
   "id": "70f46b5d-b8de-4b9d-b502-810b97a04a32",
   "metadata": {},
   "source": [
    "### 10. Ưu và Nhược điểm (Pros and Cons)\n",
    "\n",
    "- **Mô tả:** Liệt kê các ưu điểm và nhược điểm khi áp dụng pattern này.\n",
    "- **Selector cho Ưu điểm (Pros):** `#pros-cons + .row .col:first-child ul li`\n",
    "- **Giải thích (Pros):** Tìm id=\"pros-cons\", lấy thẻ `.row` ngay sau, vào cột đầu tiên (`:first-child`), tìm danh sách `<ul>` và lấy các mục `<li>` bên trong.\n",
    "- **Selector cho Nhược điểm (Cons):** `#pros-cons + .row .col:last-child ul li`\n",
    "- **Giải thích (Cons):** Tương tự như trên nhưng lấy cột cuối cùng (`:last-child`).\n",
    "- **Ví dụ nội dung (Pros):** \n",
    "  > - *Open/Closed Principle*. You can introduce new subscriber classes without having to change the publisher’s code (and vice versa if there’s a publisher interface).\n",
    "- **Ví dụ nội dung (Cons):**\n",
    "  > - Subscribers are notified in random order."
   ]
  },
  {
   "cell_type": "markdown",
   "id": "3f577951-02a7-428c-9b76-fa4a1aeba949",
   "metadata": {},
   "source": [
    "### 11. Mối quan hệ với các Pattern khác (Relations with Other Patterns)\n",
    "\n",
    "- **Mô tả:** So sánh và chỉ ra mối liên hệ giữa pattern này và các pattern khác.\n",
    "- **Selector:** `#relations + ul > li`\n",
    "- **Giải thích Selector:** Tìm phần tử có id=\"relations\", lấy danh sách `<ul>` ngay sau nó, và lấy tất cả các mục `<li>` con trực tiếp.\n",
    "- **Ví dụ nội dung:** \n",
    "  > - **Chain of Responsibility**, **Command**, **Mediator** and **Observer** address various ways of connecting senders and receivers of requests..."
   ]
  },
  {
   "cell_type": "markdown",
   "id": "43c319bc-caef-4847-a7ee-900b0ea6872d",
   "metadata": {},
   "source": [
    "---\n",
    "## 12. Cấu trúc Dữ liệu Mục tiêu (Final Target JSON Structure)\n",
    "\n",
    "Đây là bản thiết kế cuối cùng, tổng hợp tất cả 11 mục phân tích ở trên thành một cấu trúc JSON hoàn chỉnh. Toàn bộ script cào và bóc tách dữ liệu sẽ nhắm đến việc tạo ra một file `patterns_data.json` có định dạng như sau."
   ]
  },
  {
   "cell_type": "code",
   "execution_count": 1,
   "id": "e019d893-be0c-412c-831a-20e54a59f71b",
   "metadata": {},
   "outputs": [
    {
     "data": {
      "text/plain": [
       "[{'pattern_name': 'Observer',\n",
       "  'url': 'https://refactoring.guru/design-patterns/observer',\n",
       "  'intent': 'Lets you define a subscription mechanism to notify multiple objects about any events that happen to the object they’re observing.',\n",
       "  'problem': '...',\n",
       "  'solution': '...',\n",
       "  'analogy': 'If you subscribe to a newspaper or magazine, you no longer need to go to the store...',\n",
       "  'structure_info': {'image_url': '/images/patterns/diagrams/observer/structure.png',\n",
       "   'description_points': ['1. The Publisher issues events of interest to other objects.',\n",
       "    '2. ...']},\n",
       "  'pseudocode': 'The list of subscribers is compiled dynamically: objects can start or stop listening to notifications at runtime...',\n",
       "  'applicability': ['Use the Observer pattern when changes to the state of one object may require changing other objects, and the actual set of objects is unknown beforehand or changes dynamically.',\n",
       "   'Use the pattern when some objects in your app must observe others, but only for a limited time or in specific cases.'],\n",
       "  'how_to_implement': ['1. Look over your business logic and see if you can split it into two parts...',\n",
       "   '2. Declare the subscriber interface...',\n",
       "   '3. ...'],\n",
       "  'pros': ['Open/Closed Principle. You can introduce new subscriber classes without having to change the publisher’s code (and vice versa).'],\n",
       "  'cons': ['Subscribers are notified in random order.'],\n",
       "  'relations': ['Chain of Responsibility, Command, Mediator and Observer address various ways of connecting senders and receivers of requests...',\n",
       "   'Difference between Mediator and Observer is often elusive...']},\n",
       " {'pattern_name': 'Strategy', 'url': '...'}]"
      ]
     },
     "execution_count": 1,
     "metadata": {},
     "output_type": "execute_result"
    }
   ],
   "source": [
    "[\n",
    "  {\n",
    "    \"pattern_name\": \"Observer\",\n",
    "    \"url\": \"https://refactoring.guru/design-patterns/observer\",\n",
    "    \"intent\": \"Lets you define a subscription mechanism to notify multiple objects about any events that happen to the object they’re observing.\",\n",
    "    \"problem\": \"...\",\n",
    "    \"solution\": \"...\",\n",
    "    \"analogy\": \"If you subscribe to a newspaper or magazine, you no longer need to go to the store...\",\n",
    "    \"structure_info\": {\n",
    "      \"image_url\": \"/images/patterns/diagrams/observer/structure.png\",\n",
    "      \"description_points\": [\n",
    "        \"1. The Publisher issues events of interest to other objects.\",\n",
    "        \"2. ...\"\n",
    "      ]\n",
    "    },\n",
    "    \"pseudocode\": \"The list of subscribers is compiled dynamically: objects can start or stop listening to notifications at runtime...\",\n",
    "    \"applicability\": [\n",
    "      \"Use the Observer pattern when changes to the state of one object may require changing other objects, and the actual set of objects is unknown beforehand or changes dynamically.\",\n",
    "      \"Use the pattern when some objects in your app must observe others, but only for a limited time or in specific cases.\"\n",
    "    ],\n",
    "    \"how_to_implement\": [\n",
    "      \"1. Look over your business logic and see if you can split it into two parts...\",\n",
    "      \"2. Declare the subscriber interface...\",\n",
    "      \"3. ...\"\n",
    "    ],\n",
    "    \"pros\": [\n",
    "      \"Open/Closed Principle. You can introduce new subscriber classes without having to change the publisher’s code (and vice versa).\"\n",
    "    ],\n",
    "    \"cons\": [\n",
    "      \"Subscribers are notified in random order.\"\n",
    "    ],\n",
    "    \"relations\": [\n",
    "      \"Chain of Responsibility, Command, Mediator and Observer address various ways of connecting senders and receivers of requests...\",\n",
    "      \"Difference between Mediator and Observer is often elusive...\"\n",
    "    ]\n",
    "  },\n",
    "  {\n",
    "    \"pattern_name\": \"Strategy\",\n",
    "    \"url\": \"...\"\n",
    "  }\n",
    "]"
   ]
  }
 ],
 "metadata": {
  "kernelspec": {
   "display_name": "Python 3 (ipykernel)",
   "language": "python",
   "name": "python3"
  },
  "language_info": {
   "codemirror_mode": {
    "name": "ipython",
    "version": 3
   },
   "file_extension": ".py",
   "mimetype": "text/x-python",
   "name": "python",
   "nbconvert_exporter": "python",
   "pygments_lexer": "ipython3",
   "version": "3.12.3"
  }
 },
 "nbformat": 4,
 "nbformat_minor": 5
}
