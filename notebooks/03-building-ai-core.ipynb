{
 "cells": [
  {
   "cell_type": "code",
   "execution_count": 12,
   "id": "7b404be0-78ca-4b72-8cd6-c42d29209672",
   "metadata": {},
   "outputs": [
    {
     "name": "stdout",
     "output_type": "stream",
     "text": [
      "Đang tải mô hình Sentence Transformer...\n",
      "Tải mô hình thành công!\n"
     ]
    }
   ],
   "source": [
    "# Import các thư viện cần thiết\n",
    "from sentence_transformers import SentenceTransformer\n",
    "import json\n",
    "from pathlib import Path\n",
    "import chromadb\n",
    "\n",
    "# Load mô hình AI. \n",
    "# Việc này có thể mất một chút thời gian ở lần chạy đầu tiên trong session mới.\n",
    "print(\"Đang tải mô hình Sentence Transformer...\")\n",
    "model = SentenceTransformer('all-MiniLM-L6-v2')\n",
    "print(\"Tải mô hình thành công!\")"
   ]
  },
  {
   "cell_type": "code",
   "execution_count": 2,
   "id": "0305a707-8a24-4a87-b263-9bd072c63618",
   "metadata": {},
   "outputs": [
    {
     "name": "stdout",
     "output_type": "stream",
     "text": [
      "Đang đọc dữ liệu từ D:\\DU_AN_TOT_NGHIEP\\pattern-pedia-ai\\data\\patterns_final.json...\n",
      "Đọc thành công 22 patterns.\n",
      "Tên pattern đầu tiên: Proxy\n"
     ]
    }
   ],
   "source": [
    "# Path.cwd() sẽ lấy thư mục làm việc hiện tại của notebook\n",
    "# Nếu notebook đang ở trong /notebooks, chúng ta cần đi ra một cấp (dùng .parent)\n",
    "# để về thư mục gốc của dự án.\n",
    "project_root = Path.cwd().parent \n",
    "\n",
    "# Bây giờ, xây dựng đường dẫn đến file data từ thư mục gốc\n",
    "data_path = project_root / \"data\" / \"patterns_final.json\"\n",
    "\n",
    "# Đọc và load dữ liệu từ file JSON\n",
    "print(f\"Đang đọc dữ liệu từ {data_path}...\")\n",
    "with open(data_path, 'r', encoding='utf-8') as f:\n",
    "    patterns_data = json.load(f)\n",
    "\n",
    "print(f\"Đọc thành công {len(patterns_data)} patterns.\")\n",
    "\n",
    "# In ra thử tên của pattern đầu tiên để kiểm tra\n",
    "if patterns_data:\n",
    "    print(f\"Tên pattern đầu tiên: {patterns_data[0]['name']}\")"
   ]
  },
  {
   "cell_type": "code",
   "execution_count": 3,
   "id": "f65af286-ee1a-43a5-b3a4-f27cd7d857e1",
   "metadata": {},
   "outputs": [
    {
     "name": "stdout",
     "output_type": "stream",
     "text": [
      "Trích xuất thành công các đoạn text cần mã hóa.\n",
      "Đây là ví dụ về một đoạn text:\n",
      "--------------------\n",
      "Pattern Name: Proxy. Category: Structural patterns. Intent: Intent Proxy is a structural design pattern that lets you provide a substitute or placeholder for another object. A proxy controls access to the original object, allowing you to perform something either before or after the request gets thro...\n"
     ]
    }
   ],
   "source": [
    "# Lấy ra danh sách các đoạn văn bản cần mã hóa\n",
    "# Đây là \"nguyên liệu\" chính cho AI\n",
    "texts_to_encode = [pattern['text_for_embedding'] for pattern in patterns_data]\n",
    "\n",
    "# In ra một vài mẫu để kiểm tra\n",
    "print(\"Trích xuất thành công các đoạn text cần mã hóa.\")\n",
    "print(\"Đây là ví dụ về một đoạn text:\")\n",
    "print(\"-\" * 20)\n",
    "print(texts_to_encode[0][:300] + \"...\") # In 300 ký tự đầu"
   ]
  },
  {
   "cell_type": "code",
   "execution_count": 4,
   "id": "4f96014f-9302-491e-8039-12e0f2147696",
   "metadata": {},
   "outputs": [
    {
     "name": "stdout",
     "output_type": "stream",
     "text": [
      "Bắt đầu quá trình mã hóa toàn bộ dữ liệu... Việc này có thể mất một chút thời gian.\n"
     ]
    },
    {
     "name": "stderr",
     "output_type": "stream",
     "text": [
      "Batches: 100%|████████████████████████████████████████████████████████████████████████████| 1/1 [00:01<00:00,  1.26s/it]"
     ]
    },
    {
     "name": "stdout",
     "output_type": "stream",
     "text": [
      "Mã hóa hoàn tất!\n"
     ]
    },
    {
     "name": "stderr",
     "output_type": "stream",
     "text": [
      "\n"
     ]
    }
   ],
   "source": [
    "print(\"Bắt đầu quá trình mã hóa toàn bộ dữ liệu... Việc này có thể mất một chút thời gian.\")\n",
    "\n",
    "# Dùng model.encode() để biến tất cả các đoạn text thành vector\n",
    "# show_progress_bar=True để hiển thị thanh tiến trình\n",
    "embeddings = model.encode(texts_to_encode, show_progress_bar=True)\n",
    "\n",
    "print(\"Mã hóa hoàn tất!\")"
   ]
  },
  {
   "cell_type": "code",
   "execution_count": 5,
   "id": "74b78d56-a419-4851-a680-c569beabbcdf",
   "metadata": {},
   "outputs": [
    {
     "name": "stdout",
     "output_type": "stream",
     "text": [
      "Dạng của kết quả: <class 'numpy.ndarray'>\n",
      "Kích thước của array (số lượng pattern, số chiều của vector): (22, 384)\n",
      "5 chiều đầu tiên của vector đầu tiên: [-0.06451211 -0.01585064  0.02820135 -0.07741234 -0.1043975 ]\n"
     ]
    }
   ],
   "source": [
    "# Kiểm tra kết quả\n",
    "# embeddings là một numpy array\n",
    "print(f\"Dạng của kết quả: {type(embeddings)}\")\n",
    "print(f\"Kích thước của array (số lượng pattern, số chiều của vector): {embeddings.shape}\")\n",
    "\n",
    "# In ra 5 chiều đầu tiên của vector đầu tiên để xem thử\n",
    "print(f\"5 chiều đầu tiên của vector đầu tiên: {embeddings[0][:5]}\")"
   ]
  },
  {
   "cell_type": "code",
   "execution_count": 6,
   "id": "4420e14b-935c-4335-b5f1-2477417736a2",
   "metadata": {},
   "outputs": [
    {
     "name": "stdout",
     "output_type": "stream",
     "text": [
      "Index của Factory Method: 11\n",
      "Index của Abstract Factory: 10\n",
      "Index của Singleton: 7\n",
      "Index của Observer: 16\n"
     ]
    }
   ],
   "source": [
    "# Hàm trợ giúp để tìm index của một pattern bằng tên\n",
    "def get_pattern_index(pattern_name):\n",
    "    for i, pattern in enumerate(patterns_data):\n",
    "        if pattern['name'].lower() == pattern_name.lower():\n",
    "            return i\n",
    "    return -1 # Trả về -1 nếu không tìm thấy\n",
    "\n",
    "# --- CHỌN CÁC CẶP ĐỂ KIỂM TRA ---\n",
    "\n",
    "# Cặp 1: Rất liên quan (cùng là Creational, cùng giải quyết việc tạo đối tượng)\n",
    "idx_factory = get_pattern_index(\"Factory Method\")\n",
    "idx_abstract_factory = get_pattern_index(\"Abstract Factory\")\n",
    "\n",
    "# Cặp 2: Không liên quan (một cái về tạo đối tượng, một cái về hành vi)\n",
    "idx_singleton = get_pattern_index(\"Singleton\")\n",
    "idx_observer = get_pattern_index(\"Observer\")\n",
    "\n",
    "# In ra để xác nhận đã tìm đúng index\n",
    "print(f\"Index của Factory Method: {idx_factory}\")\n",
    "print(f\"Index của Abstract Factory: {idx_abstract_factory}\")\n",
    "print(f\"Index của Singleton: {idx_singleton}\")\n",
    "print(f\"Index của Observer: {idx_observer}\")"
   ]
  },
  {
   "cell_type": "code",
   "execution_count": 7,
   "id": "5eff8f15-35cd-4049-80cc-da7cdb17b034",
   "metadata": {},
   "outputs": [
    {
     "name": "stdout",
     "output_type": "stream",
     "text": [
      "Đã lấy thành công các vector để kiểm tra.\n"
     ]
    }
   ],
   "source": [
    "# Lấy ra các vector embedding từ array\n",
    "embedding_factory = embeddings[idx_factory]\n",
    "embedding_abstract_factory = embeddings[idx_abstract_factory]\n",
    "embedding_singleton = embeddings[idx_singleton]\n",
    "embedding_observer = embeddings[idx_observer]\n",
    "\n",
    "print(\"Đã lấy thành công các vector để kiểm tra.\")"
   ]
  },
  {
   "cell_type": "code",
   "execution_count": 10,
   "id": "b12c22e8-1f6b-400f-a682-332edfff8b58",
   "metadata": {},
   "outputs": [
    {
     "name": "stdout",
     "output_type": "stream",
     "text": [
      "--- KẾT QUẢ KIỂM TRA CHẤT LƯỢNG EMBEDDING ---\n",
      "Độ tương đồng giữa 'Factory Method' và 'Abstract Factory' (liên quan): 0.7809\n",
      "Độ tương đồng giữa 'Singleton' và 'Observer' (không liên quan): 0.4973\n"
     ]
    }
   ],
   "source": [
    "# Import thư viện cần thiết để tính độ tương đồng\n",
    "from sentence_transformers.util import cos_sim\n",
    "\n",
    "# Tính độ tương đồng cho cặp liên quan\n",
    "similarity_related = cos_sim(embedding_factory, embedding_abstract_factory)\n",
    "\n",
    "# Tính độ tương đồng cho cặp không liên quan\n",
    "similarity_unrelated = cos_sim(embedding_singleton, embedding_observer)\n",
    "\n",
    "print(\"--- KẾT QUẢ KIỂM TRA CHẤT LƯỢNG EMBEDDING ---\")\n",
    "print(f\"Độ tương đồng giữa 'Factory Method' và 'Abstract Factory' (liên quan): {similarity_related.item():.4f}\")\n",
    "print(f\"Độ tương đồng giữa 'Singleton' và 'Observer' (không liên quan): {similarity_unrelated.item():.4f}\")"
   ]
  },
  {
   "cell_type": "code",
   "execution_count": 13,
   "id": "db3fd958-6bbb-44b4-8452-86be5f2a46a7",
   "metadata": {},
   "outputs": [
    {
     "name": "stdout",
     "output_type": "stream",
     "text": [
      "<chromadb.api.client.Client object at 0x0000016A2053AA20>\n"
     ]
    }
   ],
   "source": [
    "# Tạo một client sẽ lưu dữ liệu vào thư mục 'db' trong thư mục gốc của dự án\n",
    "# (ChromaDB sẽ tự tạo thư mục này nếu chưa có)\n",
    "client = chromadb.PersistentClient(path=\"../db\") \n",
    "\n",
    "# In ra để kiểm tra xem client đã được tạo chưa\n",
    "print(client)"
   ]
  },
  {
   "cell_type": "code",
   "execution_count": 14,
   "id": "e1e60d07-d34e-4fbf-919f-9201bfb86555",
   "metadata": {},
   "outputs": [
    {
     "name": "stdout",
     "output_type": "stream",
     "text": [
      "Collection(name=test_collection)\n"
     ]
    }
   ],
   "source": [
    "# Tạo hoặc lấy ra một collection có tên là 'test_collection'\n",
    "collection = client.get_or_create_collection(name=\"test_collection\")\n",
    "\n",
    "# In ra để kiểm tra\n",
    "print(collection)"
   ]
  },
  {
   "cell_type": "code",
   "execution_count": 15,
   "id": "8d4dfaa4-a66e-4e5f-9cae-98bdcd46be3d",
   "metadata": {},
   "outputs": [
    {
     "name": "stderr",
     "output_type": "stream",
     "text": [
      "C:\\Users\\Admin\\.cache\\chroma\\onnx_models\\all-MiniLM-L6-v2\\onnx.tar.gz: 100%|██████| 79.3M/79.3M [00:25<00:00, 3.20MiB/s]\n"
     ]
    },
    {
     "name": "stdout",
     "output_type": "stream",
     "text": [
      "Đã thêm 3 documents vào collection.\n"
     ]
    }
   ],
   "source": [
    "collection.add(\n",
    "    documents=[\n",
    "        \"This is a document about dogs.\",\n",
    "        \"This is a document about cats and dogs.\",\n",
    "        \"The weather is nice today.\"\n",
    "    ],\n",
    "    metadatas=[\n",
    "        {'source': 'animal_facts'}, \n",
    "        {'source': 'animal_facts'},\n",
    "        {'source': 'daily_news'}\n",
    "    ],\n",
    "    ids=[\"doc1\", \"doc2\", \"doc3\"] # ID phải là duy nhất\n",
    ")\n",
    "\n",
    "print(\"Đã thêm 3 documents vào collection.\")"
   ]
  },
  {
   "cell_type": "code",
   "execution_count": 16,
   "id": "90a91ab4-adc1-4bba-b599-d0c59099eaf0",
   "metadata": {},
   "outputs": [
    {
     "name": "stdout",
     "output_type": "stream",
     "text": [
      "{'data': None,\n",
      " 'distances': [[1.014564037322998, 1.0898027420043945]],\n",
      " 'documents': [['This is a document about cats and dogs.',\n",
      "                'This is a document about dogs.']],\n",
      " 'embeddings': None,\n",
      " 'ids': [['doc2', 'doc1']],\n",
      " 'included': ['metadatas', 'documents', 'distances'],\n",
      " 'metadatas': [[{'source': 'animal_facts'}, {'source': 'animal_facts'}]],\n",
      " 'uris': None}\n"
     ]
    }
   ],
   "source": [
    "# Truy vấn collection với một câu hỏi\n",
    "results = collection.query(\n",
    "    query_texts=[\"What are some furry pets?\"],\n",
    "    n_results=2 # Yêu cầu trả về 2 kết quả gần nhất\n",
    ")\n",
    "\n",
    "# In kết quả ra một cách đẹp mắt\n",
    "import pprint\n",
    "pprint.pprint(results)"
   ]
  },
  {
   "cell_type": "code",
   "execution_count": null,
   "id": "6c88540c-4811-4687-9f4e-4b648916ad10",
   "metadata": {},
   "outputs": [],
   "source": []
  }
 ],
 "metadata": {
  "kernelspec": {
   "display_name": "Python 3 (ipykernel)",
   "language": "python",
   "name": "python3"
  },
  "language_info": {
   "codemirror_mode": {
    "name": "ipython",
    "version": 3
   },
   "file_extension": ".py",
   "mimetype": "text/x-python",
   "name": "python",
   "nbconvert_exporter": "python",
   "pygments_lexer": "ipython3",
   "version": "3.12.3"
  }
 },
 "nbformat": 4,
 "nbformat_minor": 5
}
